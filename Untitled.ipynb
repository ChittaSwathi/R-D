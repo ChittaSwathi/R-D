{
 "cells": [
  {
   "cell_type": "raw",
   "id": "0527d755-7d36-459d-96bd-a68e7d3241ab",
   "metadata": {},
   "source": [
    "MultiThreading"
   ]
  },
  {
   "cell_type": "code",
   "execution_count": null,
   "id": "45ab9ba6-2ff7-4cf5-ada5-1e6fc46e6d5c",
   "metadata": {},
   "outputs": [],
   "source": [
    "fork first then thread"
   ]
  },
  {
   "cell_type": "code",
   "execution_count": null,
   "id": "50aab393-f34b-4ccd-bd90-a97c7ff3c8eb",
   "metadata": {},
   "outputs": [],
   "source": []
  },
  {
   "cell_type": "code",
   "execution_count": null,
   "id": "23c76592-e168-49df-b374-012a90e17bf0",
   "metadata": {},
   "outputs": [],
   "source": []
  },
  {
   "cell_type": "code",
   "execution_count": null,
   "id": "7a2f86b8-030d-401d-8c6e-1e6677dbcaa6",
   "metadata": {},
   "outputs": [],
   "source": []
  }
 ],
 "metadata": {
  "kernelspec": {
   "display_name": "Python 3 (ipykernel)",
   "language": "python",
   "name": "python3"
  },
  "language_info": {
   "codemirror_mode": {
    "name": "ipython",
    "version": 3
   },
   "file_extension": ".py",
   "mimetype": "text/x-python",
   "name": "python",
   "nbconvert_exporter": "python",
   "pygments_lexer": "ipython3",
   "version": "3.12.6"
  }
 },
 "nbformat": 4,
 "nbformat_minor": 5
}
